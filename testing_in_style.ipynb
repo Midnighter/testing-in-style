{
 "cells": [
  {
   "cell_type": "markdown",
   "metadata": {
    "slideshow": {
     "slide_type": "slide"
    }
   },
   "source": [
    "# Testing in Style - Reducing Barriers to Higher Code Quality Through Automation"
   ]
  },
  {
   "cell_type": "markdown",
   "metadata": {
    "slideshow": {
     "slide_type": "-"
    }
   },
   "source": [
    "Moritz E. Beber\n",
    "\n",
    "Postdoc in Computational Biology\n",
    "\n",
    "Novo Nordisk Foundation Center for Biosustainability"
   ]
  },
  {
   "cell_type": "markdown",
   "metadata": {
    "slideshow": {
     "slide_type": "slide"
    }
   },
   "source": [
    "## Why Test at All?"
   ]
  },
  {
   "cell_type": "markdown",
   "metadata": {
    "slideshow": {
     "slide_type": "-"
    }
   },
   "source": [
    "* The more **problems caught** in development, the less your users (you!) see in production\n",
    "* High test coverage gives you **confidence** to refactor code\n",
    "* Similarly, it makes it easier for others to **contribute** because they easily know whether or not they broke something\n",
    "* Writing testable code typically leads to more **modular** code"
   ]
  },
  {
   "cell_type": "markdown",
   "metadata": {
    "slideshow": {
     "slide_type": "notes"
    }
   },
   "source": [
    "* Don't want to go into all the technical details\n",
    "* Some highlights\n",
    "* Modular code means logical units are separate, thus easier to test, easier to understand, and easier to compose"
   ]
  },
  {
   "cell_type": "markdown",
   "metadata": {
    "slideshow": {
     "slide_type": "slide"
    }
   },
   "source": [
    "## Aspects of Testing"
   ]
  },
  {
   "cell_type": "markdown",
   "metadata": {
    "slideshow": {
     "slide_type": "-"
    }
   },
   "source": [
    "* Follow a style ([pep8](https://www.python.org/dev/peps/pep-0008/))\n",
    "* Statically analyze your code\n",
    "* Unit tests\n",
    "* Integration tests"
   ]
  },
  {
   "cell_type": "markdown",
   "metadata": {
    "slideshow": {
     "slide_type": "notes"
    }
   },
   "source": [
    "* Consistent formatting makes code easier to read and understand\n",
    "* Future you and contributors will thank you\n",
    "* We will use a number of tools here: isort, black, flake8\n",
    "* Unit tests verify logical correctness\n",
    "* Integration tests verify the combined function of multiple modules"
   ]
  },
  {
   "cell_type": "markdown",
   "metadata": {
    "slideshow": {
     "slide_type": "slide"
    }
   },
   "source": [
    "## Live Demo"
   ]
  },
  {
   "cell_type": "markdown",
   "metadata": {},
   "source": [
    "Contrived example: a simple calculator\n",
    "\n",
    "```\n",
    "git clone https://github.com/Midnighter/calculator-demo\n",
    "```"
   ]
  },
  {
   "cell_type": "markdown",
   "metadata": {
    "slideshow": {
     "slide_type": "subslide"
    }
   },
   "source": [
    "## Package Structure"
   ]
  },
  {
   "cell_type": "markdown",
   "metadata": {
    "slideshow": {
     "slide_type": "-"
    }
   },
   "source": [
    "```\n",
    "├── src\n",
    "│   └── demo\n",
    "│       ├── __init__.py\n",
    "│       └── operators.py\n",
    "└── tests\n",
    "    ├── test_integration\n",
    "    └── test_unit\n",
    "        └── test_operators.py\n",
    "```"
   ]
  },
  {
   "cell_type": "markdown",
   "metadata": {
    "slideshow": {
     "slide_type": "subslide"
    }
   },
   "source": [
    "### Why `src`?"
   ]
  },
  {
   "cell_type": "markdown",
   "metadata": {
    "slideshow": {
     "slide_type": "-"
    }
   },
   "source": [
    "* It can get messy\n",
    "* https://blog.ionelmc.ro/2014/05/25/python-packaging/#the-structure\n",
    "* http://andrewsforge.com/article/python-new-package-landscape/"
   ]
  },
  {
   "cell_type": "markdown",
   "metadata": {
    "slideshow": {
     "slide_type": "notes"
    }
   },
   "source": [
    "* `.egg` conflicts with package\n",
    "* force installation\n",
    "* find data problems"
   ]
  },
  {
   "cell_type": "markdown",
   "metadata": {
    "slideshow": {
     "slide_type": "subslide"
    }
   },
   "source": [
    "### Topics"
   ]
  },
  {
   "cell_type": "markdown",
   "metadata": {
    "slideshow": {
     "slide_type": "-"
    }
   },
   "source": [
    "* `flake8-docstrings`\n",
    "* `pytest.mark.parametrize`\n",
    "* `pytest-raises`\n",
    "* `hypothesis`\n",
    "* package data\n",
    "* `coverage`"
   ]
  },
  {
   "cell_type": "markdown",
   "metadata": {
    "slideshow": {
     "slide_type": "subslide"
    }
   },
   "source": [
    "### Important Topics not Covered"
   ]
  },
  {
   "cell_type": "markdown",
   "metadata": {},
   "source": [
    "* [fixtures](https://docs.pytest.org/en/latest/fixture.html)\n",
    "* [pdb](https://docs.pytest.org/en/latest/usage.html#dropping-to-pdb-python-debugger-on-failures)\n",
    "* [mocking](https://docs.pytest.org/en/latest/monkeypatch.html)"
   ]
  },
  {
   "cell_type": "markdown",
   "metadata": {
    "slideshow": {
     "slide_type": "slide"
    }
   },
   "source": [
    "## Invoking Tox"
   ]
  },
  {
   "cell_type": "markdown",
   "metadata": {},
   "source": [
    "Run all the defined `tox` environments:\n",
    "```\n",
    "tox\n",
    "```\n",
    "\n",
    "Select a specific environment:\n",
    "```\n",
    "tox -e py36\n",
    "```\n",
    "\n",
    "If your `tox.ini` defines it, you can provide additional arguments after `--`:\n",
    "\n",
    "```\n",
    "commands =\n",
    "    pytest --cov=demo {posargs: tests}\n",
    "```\n",
    "\n",
    "```\n",
    "tox -e py36 -- --cov-report=html tests\n",
    "```"
   ]
  },
  {
   "cell_type": "markdown",
   "metadata": {
    "slideshow": {
     "slide_type": "subslide"
    }
   },
   "source": [
    "### Non-installed Projects"
   ]
  },
  {
   "cell_type": "markdown",
   "metadata": {},
   "source": [
    "If you are testing a project that is not an installable package, you will want to change your `tox.ini`:\n",
    "\n",
    "```\n",
    "[tox]\n",
    "envlist = ...\n",
    "skipsdist = true\n",
    "\n",
    "[testenv]\n",
    "skip_install = true\n",
    "```\n",
    "\n",
    "You can then install dependencies normally, e.g., via a requirements file:\n",
    "\n",
    "```\n",
    "deps =\n",
    "   -rrequirements.txt\n",
    "```\n",
    "\n",
    "or additionally allow global site-packages in the `[testenv]` section:\n",
    "\n",
    "```\n",
    "sitepackages = true\n",
    "```\n"
   ]
  },
  {
   "cell_type": "markdown",
   "metadata": {
    "slideshow": {
     "slide_type": "slide"
    }
   },
   "source": [
    "## Continuous Integration & Deployment"
   ]
  },
  {
   "cell_type": "markdown",
   "metadata": {},
   "source": [
    "* [Travis CI](https://travis-ci.org/)\n",
    "* [Circle CI](https://circleci.com/)\n",
    "* [AppVeyor](https://www.appveyor.com/)\n",
    "* [Jenkins](https://jenkins.io/)\n",
    "* [GitLab CI](https://about.gitlab.com/product/continuous-integration/)"
   ]
  },
  {
   "cell_type": "markdown",
   "metadata": {
    "slideshow": {
     "slide_type": "notes"
    }
   },
   "source": [
    "* Travis free for open source (Linux, Mac)\n",
    "* Circle CI paid but nice features (log into test container)\n",
    "* AppVeyor free for open source (Linux, Windows)\n",
    "* Jenkins self hosted\n",
    "* GitLab CI also free"
   ]
  },
  {
   "cell_type": "markdown",
   "metadata": {
    "slideshow": {
     "slide_type": "slide"
    }
   },
   "source": [
    "## Thank You"
   ]
  },
  {
   "cell_type": "markdown",
   "metadata": {},
   "source": [
    "For a complete example, please take a look at the [full-implementation](https://github.com/Midnighter/calculator-demo/tree/full-implementation) branch."
   ]
  },
  {
   "cell_type": "markdown",
   "metadata": {},
   "source": [
    "Feel free to reach out to me:\n",
    "\n",
    "* <img src=\"icons/envelope-solid.svg\" alt=\"Email\" style=\"height: 1.2em; display: inline-block;\"/> <a href=\"mailto:midnighter@posteo.net?subject=Python testing\">midnighter@posteo.net</a>\n",
    "* <img src=\"icons/github-brands.svg\" alt=\"GitHub\" style=\"height: 1.2em; display: inline-block;\"/> [Midnighter](https://github.com/Midnighter/)\n",
    "* <img src=\"icons/twitter-brands.svg\" alt=\"Twitter\" style=\"height: 1.2em; display: inline-block;\"/> [@me_beber](https://twitter.com/me_beber)\n",
    "* <img src=\"icons/linkedin-brands.svg\" alt=\"LinkedIn\" style=\"height: 1.2em; display: inline-block;\"/> [Moritz Beber](https://www.linkedin.com/in/moritz-beber-b597a55a/)"
   ]
  }
 ],
 "metadata": {
  "celltoolbar": "Slideshow",
  "kernelspec": {
   "display_name": "Python 3",
   "language": "python",
   "name": "python3"
  },
  "language_info": {
   "codemirror_mode": {
    "name": "ipython",
    "version": 3
   },
   "file_extension": ".py",
   "mimetype": "text/x-python",
   "name": "python",
   "nbconvert_exporter": "python",
   "pygments_lexer": "ipython3",
   "version": "3.6.8"
  },
  "toc": {
   "base_numbering": 1,
   "nav_menu": {},
   "number_sections": false,
   "sideBar": true,
   "skip_h1_title": true,
   "title_cell": "Table of Contents",
   "title_sidebar": "Contents",
   "toc_cell": false,
   "toc_position": {},
   "toc_section_display": true,
   "toc_window_display": true
  }
 },
 "nbformat": 4,
 "nbformat_minor": 2
}
